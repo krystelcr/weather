{
 "cells": [
  {
   "cell_type": "code",
   "execution_count": 200,
   "metadata": {},
   "outputs": [],
   "source": [
    "import pandas as pd"
   ]
  },
  {
   "cell_type": "code",
   "execution_count": 201,
   "metadata": {},
   "outputs": [],
   "source": [
    "#load weather data\n",
    "df = pd.read_csv(\"/Users/sa2/Desktop/TKH/weather/data/csv/data.csv\")\n",
    "#gets rid of missing values\n",
    "df = df.dropna()\n",
    "#convert \"time\" column to datetime and set it as the index\n",
    "df[\"time\"] = pd.to_datetime(df[\"time\"])\n",
    "df = df.set_index(\"time\")\n"
   ]
  },
  {
   "cell_type": "code",
   "execution_count": 202,
   "metadata": {},
   "outputs": [],
   "source": [
    "#calculates monthly medians for specific columns, then make a csv file\n",
    "monthlymedians = df.resample(\"ME\")[\"temperature_2m\", \"relative_humidity_2m\", \"precipitation\", \"surface_pressure\"].median()\n",
    "monthlymedians.to_csv(\"../data/csv/monthlymedians.csv\")"
   ]
  },
  {
   "cell_type": "code",
   "execution_count": 203,
   "metadata": {},
   "outputs": [],
   "source": [
    "#calculates yearly medians for specific columns, then make a csv file\n",
    "yearlymedians = df.resample(\"YE\")[\"temperature_2m\", \"relative_humidity_2m\", \"precipitation\", \"surface_pressure\"].median()\n",
    "yearlymedians.to_csv(\"../data/csv/yearlymedians.csv\")"
   ]
  },
  {
   "cell_type": "code",
   "execution_count": 204,
   "metadata": {},
   "outputs": [],
   "source": [
    "#load and filter harvest data for \"Minas Gerais\", then make a csv file\n",
    "harvestdf = pd.read_csv(\"/Users/sa2/Desktop/TKH/weather/data/csv/br_final.csv\")\n",
    "harvestdf = harvestdf.loc[harvestdf[\"subdivision\"] == \"Minas Gerais\", [\"year\", \"million_60kgs_bag\", \"nonbear_mill_trees\", \"bear_mill_trees\", \"avg_unemp_perc\"]]\n",
    "harvestdf.to_csv(\"../data/csv/harvest.csv\", index=False)"
   ]
  },
  {
   "cell_type": "code",
   "execution_count": 205,
   "metadata": {},
   "outputs": [],
   "source": [
    "#reset index so that time can be used\n",
    "yearlymedians = yearlymedians.reset_index()\n",
    "#changing time name to year for better merge\n",
    "yearlymedians = yearlymedians.rename(columns={\"time\":\"year\"})\n",
    "#year type changes\n",
    "yearlymedians[\"year\"] = yearlymedians[\"year\"].dt.year\n",
    "\n",
    "#merges yearly medians and harvest data on year\n",
    "merge = yearlymedians.merge(harvestdf, on=\"year\", how=\"outer\")\n",
    "\n",
    "#sets year as the index and keep only 2022 and 2023\n",
    "merge = merge.set_index(\"year\")\n",
    "merge = merge.loc[[2022, 2023]]\n",
    "#saves the merged data to a CSV file\n",
    "merge.to_csv(\"../data/csv/merge.csv\")"
   ]
  }
 ],
 "metadata": {
  "kernelspec": {
   "display_name": "base",
   "language": "python",
   "name": "python3"
  },
  "language_info": {
   "codemirror_mode": {
    "name": "ipython",
    "version": 3
   },
   "file_extension": ".py",
   "mimetype": "text/x-python",
   "name": "python",
   "nbconvert_exporter": "python",
   "pygments_lexer": "ipython3",
   "version": "3.12.4"
  }
 },
 "nbformat": 4,
 "nbformat_minor": 2
}
